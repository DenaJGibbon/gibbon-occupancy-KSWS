{
 "cells": [
  {
   "cell_type": "code",
   "execution_count": 1,
   "metadata": {},
   "outputs": [
    {
     "name": "stdout",
     "output_type": "stream",
     "text": [
      "S:\\projects\\2024_WCS_Cambodia_S1139\\2024_WCS_Cambodia_S1139\\S1139_Dep01_FLAC\\S1139KS01_032K_WA-T05_R1054-SD3833\\S1139KS01_R1054-SD3833_20240513\\S1139KS01_032K_WA-T05_R1054-SD3833_20240513_040003+0700.flac\n",
      "S:\\projects\\2024_WCS_Cambodia_S1139\\2024_WCS_Cambodia_S1139\\S1139_Dep01_FLAC\\S1139KS01_032K_WA-T01_R1443-SD3814\\S1139KS01_R1443-SD3814_20240428\\S1139KS01_032K_WA-T01_R1443-SD3814_20240428_160007+0700.flac\n",
      "S:\\projects\\2024_WCS_Cambodia_S1139\\2024_WCS_Cambodia_S1139\\S1139_Dep01_FLAC\\S1139KS01_032K_WA-T01_R1443-SD3814\\S1139KS01_R1443-SD3814_20240428\\S1139KS01_032K_WA-T01_R1443-SD3814_20240428_220009+0700.flac\n",
      "S:\\projects\\2024_WCS_Cambodia_S1139\\2024_WCS_Cambodia_S1139\\S1139_Dep01_FLAC\\S1139KS01_032K_WA-T04_R1453-SD3837\\S1139KS01_R1453-SD3837_20240602\\S1139KS01_032K_WA-T04_R1453-SD3837_20240602_130005+0700.flac\n",
      "S:\\projects\\2024_WCS_Cambodia_S1139\\2024_WCS_Cambodia_S1139\\S1139_Dep01_FLAC\\S1139KS01_032K_WA-T01_R1443-SD3814\\S1139KS01_R1443-SD3814_20240807\\S1139KS01_032K_WA-T01_R1443-SD3814_20240807_180007+0700.flac\n",
      "S:\\projects\\2024_WCS_Cambodia_S1139\\2024_WCS_Cambodia_S1139\\S1139_Dep01_FLAC\\S1139KS01_032K_WA-T01_R1443-SD3814\\S1139KS01_R1443-SD3814_20240808\\S1139KS01_032K_WA-T01_R1443-SD3814_20240808_180007+0700.flac\n",
      "S:\\projects\\2024_WCS_Cambodia_S1139\\2024_WCS_Cambodia_S1139\\S1139_Dep01_FLAC\\S1139KS01_032K_WA-T10_R1048-SD3834\\S1139KS01_R1048-SD3834_20240404\\S1139KS01_032K_WA-T10_R1048-SD3834_20240404_110005+0700.flac\n",
      "S:\\projects\\2024_WCS_Cambodia_S1139\\2024_WCS_Cambodia_S1139\\S1139_Dep01_FLAC\\S1139KS01_032K_WA-T07_R1055-SD3836\\S1139KS01_R1055-SD3836_20240330\\S1139KS01_032K_WA-T07_R1055-SD3836_20240330_150006+0700.flac\n",
      "S:\\projects\\2024_WCS_Cambodia_S1139\\2024_WCS_Cambodia_S1139\\S1139_Dep01_FLAC\\S1139KS01_032K_WA-T08_R1460-SD3816\\S1139KS01_R1460-SD3816_20240504\\S1139KS01_032K_WA-T08_R1460-SD3816_20240504_090004+0700.flac\n",
      "S:\\projects\\2024_WCS_Cambodia_S1139\\2024_WCS_Cambodia_S1139\\S1139_Dep01_FLAC\\S1139KS01_032K_WA-T06_R1056-SD3832\\S1139KS01_R1056-SD3832_20240420\\S1139KS01_032K_WA-T06_R1056-SD3832_20240420_060003+0700.flac\n",
      "S:\\projects\\2024_WCS_Cambodia_S1139\\2024_WCS_Cambodia_S1139\\S1139_Dep01_FLAC\\S1139KS01_032K_WA-T01_R1443-SD3814\\S1139KS01_R1443-SD3814_20240428\\S1139KS01_032K_WA-T01_R1443-SD3814_20240428_110005+0700.flac\n",
      "S:\\projects\\2024_WCS_Cambodia_S1139\\2024_WCS_Cambodia_S1139\\S1139_Dep01_FLAC\\S1139KS01_032K_WA-T01_R1443-SD3814\\S1139KS01_R1443-SD3814_20240428\\S1139KS01_032K_WA-T01_R1443-SD3814_20240428_060003+0700.flac\n",
      "S:\\projects\\2024_WCS_Cambodia_S1139\\2024_WCS_Cambodia_S1139\\S1139_Dep01_FLAC\\S1139KS01_032K_WA-T01_R1443-SD3814\\S1139KS01_R1443-SD3814_20240425\\S1139KS01_032K_WA-T01_R1443-SD3814_20240425_150006+0700.flac\n",
      "S:\\projects\\2024_WCS_Cambodia_S1139\\2024_WCS_Cambodia_S1139\\S1139_Dep01_FLAC\\S1139KS01_032K_WA-T01_R1443-SD3814\\S1139KS01_R1443-SD3814_20240428\\S1139KS01_032K_WA-T01_R1443-SD3814_20240428_050003+0700.flac\n",
      "S:\\projects\\2024_WCS_Cambodia_S1139\\2024_WCS_Cambodia_S1139\\S1139_Dep01_FLAC\\S1139KS01_032K_WA-T01_R1443-SD3814\\S1139KS01_R1443-SD3814_20240809\\S1139KS01_032K_WA-T01_R1443-SD3814_20240809_050003+0700.flac\n",
      "S:\\projects\\2024_WCS_Cambodia_S1139\\2024_WCS_Cambodia_S1139\\S1139_Dep01_FLAC\\S1139KS01_032K_WA-T10_R1048-SD3834\\S1139KS01_R1048-SD3834_20240408\\S1139KS01_032K_WA-T10_R1048-SD3834_20240408_150006+0700.flac\n",
      "S:\\projects\\2024_WCS_Cambodia_S1139\\2024_WCS_Cambodia_S1139\\S1139_Dep01_FLAC\\S1139KS01_032K_WA-T01_R1443-SD3814\\S1139KS01_R1443-SD3814_20240802\\S1139KS01_032K_WA-T01_R1443-SD3814_20240802_170007+0700.flac\n",
      "S:\\projects\\2024_WCS_Cambodia_S1139\\2024_WCS_Cambodia_S1139\\S1139_Dep01_FLAC\\S1139KS01_032K_WA-T01_R1443-SD3814\\S1139KS01_R1443-SD3814_20240807\\S1139KS01_032K_WA-T01_R1443-SD3814_20240807_100005+0700.flac\n",
      "S:\\projects\\2024_WCS_Cambodia_S1139\\2024_WCS_Cambodia_S1139\\S1139_Dep01_FLAC\\S1139KS01_032K_WA-T04_R1453-SD3837\\S1139KS01_R1453-SD3837_20240604\\S1139KS01_032K_WA-T04_R1453-SD3837_20240604_110005+0700.flac\n",
      "S:\\projects\\2024_WCS_Cambodia_S1139\\2024_WCS_Cambodia_S1139\\S1139_Dep01_FLAC\\S1139KS01_032K_WA-T01_R1443-SD3814\\S1139KS01_R1443-SD3814_20240427\\S1139KS01_032K_WA-T01_R1443-SD3814_20240427_040003+0700.flac\n",
      "S:\\projects\\2024_WCS_Cambodia_S1139\\2024_WCS_Cambodia_S1139\\S1139_Dep01_FLAC\\S1139KS01_032K_WA-T08_R1460-SD3816\\S1139KS01_R1460-SD3816_20240505\\S1139KS01_032K_WA-T08_R1460-SD3816_20240505_100004+0700.flac\n",
      "S:\\projects\\2024_WCS_Cambodia_S1139\\2024_WCS_Cambodia_S1139\\S1139_Dep01_FLAC\\S1139KS01_032K_WA-T01_R1443-SD3814\\S1139KS01_R1443-SD3814_20240426\\S1139KS01_032K_WA-T01_R1443-SD3814_20240426_040003+0700.flac\n",
      "S:\\projects\\2024_WCS_Cambodia_S1139\\2024_WCS_Cambodia_S1139\\S1139_Dep01_FLAC\\S1139KS01_032K_WA-T08_R1460-SD3816\\S1139KS01_R1460-SD3816_20240507\\S1139KS01_032K_WA-T08_R1460-SD3816_20240507_120005+0700.flac\n",
      "S:\\projects\\2024_WCS_Cambodia_S1139\\2024_WCS_Cambodia_S1139\\S1139_Dep01_FLAC\\S1139KS01_032K_WA-T06_R1056-SD3832\\S1139KS01_R1056-SD3832_20240417\\S1139KS01_032K_WA-T06_R1056-SD3832_20240417_150006+0700.flac\n",
      "S:\\projects\\2024_WCS_Cambodia_S1139\\2024_WCS_Cambodia_S1139\\S1139_Dep01_FLAC\\S1139KS01_032K_WA-T01_R1443-SD3814\\S1139KS01_R1443-SD3814_20240804\\S1139KS01_032K_WA-T01_R1443-SD3814_20240804_090004+0700.flac\n",
      "S:\\projects\\2024_WCS_Cambodia_S1139\\2024_WCS_Cambodia_S1139\\S1139_Dep01_FLAC\\S1139KS01_032K_WA-T01_R1443-SD3814\\S1139KS01_R1443-SD3814_20240806\\S1139KS01_032K_WA-T01_R1443-SD3814_20240806_100005+0700.flac\n",
      "S:\\projects\\2024_WCS_Cambodia_S1139\\2024_WCS_Cambodia_S1139\\S1139_Dep01_FLAC\\S1139KS01_032K_WA-T08_R1460-SD3816\\S1139KS01_R1460-SD3816_20240507\\S1139KS01_032K_WA-T08_R1460-SD3816_20240507_180007+0700.flac\n",
      "S:\\projects\\2024_WCS_Cambodia_S1139\\2024_WCS_Cambodia_S1139\\S1139_Dep01_FLAC\\S1139KS01_032K_WA-T01_R1443-SD3814\\S1139KS01_R1443-SD3814_20240424\\S1139KS01_032K_WA-T01_R1443-SD3814_20240424_000001+0700.flac\n",
      "S:\\projects\\2024_WCS_Cambodia_S1139\\2024_WCS_Cambodia_S1139\\S1139_Dep01_FLAC\\S1139KS01_032K_WA-T05_R1054-SD3833\\S1139KS01_R1054-SD3833_20240510\\S1139KS01_032K_WA-T05_R1054-SD3833_20240510_050003+0700.flac\n",
      "S:\\projects\\2024_WCS_Cambodia_S1139\\2024_WCS_Cambodia_S1139\\S1139_Dep01_FLAC\\S1139KS01_032K_WA-T01_R1443-SD3814\\S1139KS01_R1443-SD3814_20240807\\S1139KS01_032K_WA-T01_R1443-SD3814_20240807_070004+0700.flac\n",
      "S:\\projects\\2024_WCS_Cambodia_S1139\\2024_WCS_Cambodia_S1139\\S1139_Dep01_FLAC\\S1139KS01_032K_WA-T08_R1460-SD3816\\S1139KS01_R1460-SD3816_20240505\\S1139KS01_032K_WA-T08_R1460-SD3816_20240505_150006+0700.flac\n",
      "S:\\projects\\2024_WCS_Cambodia_S1139\\2024_WCS_Cambodia_S1139\\S1139_Dep01_FLAC\\S1139KS01_032K_WA-T01_R1443-SD3814\\S1139KS01_R1443-SD3814_20240427\\S1139KS01_032K_WA-T01_R1443-SD3814_20240427_170007+0700.flac\n",
      "S:\\projects\\2024_WCS_Cambodia_S1139\\2024_WCS_Cambodia_S1139\\S1139_Dep01_FLAC\\S1139KS01_032K_WA-T01_R1443-SD3814\\S1139KS01_R1443-SD3814_20240802\\S1139KS01_032K_WA-T01_R1443-SD3814_20240802_180007+0700.flac\n",
      "S:\\projects\\2024_WCS_Cambodia_S1139\\2024_WCS_Cambodia_S1139\\S1139_Dep01_FLAC\\S1139KS01_032K_WA-T06_R1056-SD3832\\S1139KS01_R1056-SD3832_20240419\\S1139KS01_032K_WA-T06_R1056-SD3832_20240419_140006+0700.flac\n",
      "S:\\projects\\2024_WCS_Cambodia_S1139\\2024_WCS_Cambodia_S1139\\S1139_Dep01_FLAC\\S1139KS01_032K_WA-T01_R1443-SD3814\\S1139KS01_R1443-SD3814_20240427\\S1139KS01_032K_WA-T01_R1443-SD3814_20240427_100005+0700.flac\n",
      "S:\\projects\\2024_WCS_Cambodia_S1139\\2024_WCS_Cambodia_S1139\\S1139_Dep01_FLAC\\S1139KS01_032K_WA-T07_R1055-SD3836\\S1139KS01_R1055-SD3836_20240329\\S1139KS01_032K_WA-T07_R1055-SD3836_20240329_180007+0700.flac\n",
      "S:\\projects\\2024_WCS_Cambodia_S1139\\2024_WCS_Cambodia_S1139\\S1139_Dep01_FLAC\\S1139KS01_032K_WA-T04_R1453-SD3837\\S1139KS01_R1453-SD3837_20240605\\S1139KS01_032K_WA-T04_R1453-SD3837_20240605_120005+0700.flac\n",
      "S:\\projects\\2024_WCS_Cambodia_S1139\\2024_WCS_Cambodia_S1139\\S1139_Dep01_FLAC\\S1139KS01_032K_WA-T01_R1443-SD3814\\S1139KS01_R1443-SD3814_20240428\\S1139KS01_032K_WA-T01_R1443-SD3814_20240428_080004+0700.flac\n"
     ]
    },
    {
     "name": "stderr",
     "output_type": "stream",
     "text": [
      "C:\\Users\\djc426\\AppData\\Local\\Packages\\PythonSoftwareFoundation.Python.3.12_qbz5n2kfra8p0\\LocalCache\\local-packages\\Python312\\site-packages\\matplotlib\\axes\\_axes.py:8089: RuntimeWarning: divide by zero encountered in log10\n",
      "  Z = 10. * np.log10(spec)\n"
     ]
    },
    {
     "name": "stdout",
     "output_type": "stream",
     "text": [
      "S:\\projects\\2024_WCS_Cambodia_S1139\\2024_WCS_Cambodia_S1139\\S1139_Dep01_FLAC\\S1139KS01_032K_WA-T05_R1054-SD3833\\S1139KS01_R1054-SD3833_20240511\\S1139KS01_032K_WA-T05_R1054-SD3833_20240511_120005+0700.flac\n",
      "S:\\projects\\2024_WCS_Cambodia_S1139\\2024_WCS_Cambodia_S1139\\S1139_Dep01_FLAC\\S1139KS01_032K_WA-T01_R1443-SD3814\\S1139KS01_R1443-SD3814_20240428\\S1139KS01_032K_WA-T01_R1443-SD3814_20240428_090004+0700.flac\n"
     ]
    },
    {
     "name": "stderr",
     "output_type": "stream",
     "text": [
      "C:\\Users\\djc426\\AppData\\Local\\Packages\\PythonSoftwareFoundation.Python.3.12_qbz5n2kfra8p0\\LocalCache\\local-packages\\Python312\\site-packages\\matplotlib\\axes\\_axes.py:8089: RuntimeWarning: divide by zero encountered in log10\n",
      "  Z = 10. * np.log10(spec)\n"
     ]
    },
    {
     "name": "stdout",
     "output_type": "stream",
     "text": [
      "S:\\projects\\2024_WCS_Cambodia_S1139\\2024_WCS_Cambodia_S1139\\S1139_Dep01_FLAC\\S1139KS01_032K_WA-T04_R1453-SD3837\\S1139KS01_R1453-SD3837_20240602\\S1139KS01_032K_WA-T04_R1453-SD3837_20240602_140006+0700.flac\n",
      "S:\\projects\\2024_WCS_Cambodia_S1139\\2024_WCS_Cambodia_S1139\\S1139_Dep01_FLAC\\S1139KS01_032K_WA-T08_R1460-SD3816\\S1139KS01_R1460-SD3816_20240505\\S1139KS01_032K_WA-T08_R1460-SD3816_20240505_160006+0700.flac\n",
      "S:\\projects\\2024_WCS_Cambodia_S1139\\2024_WCS_Cambodia_S1139\\S1139_Dep01_FLAC\\S1139KS01_032K_WA-T01_R1443-SD3814\\S1139KS01_R1443-SD3814_20240423\\S1139KS01_032K_WA-T01_R1443-SD3814_20240423_133206+0700.flac\n",
      "S:\\projects\\2024_WCS_Cambodia_S1139\\2024_WCS_Cambodia_S1139\\S1139_Dep01_FLAC\\S1139KS01_032K_WA-T01_R1443-SD3814\\S1139KS01_R1443-SD3814_20240429\\S1139KS01_032K_WA-T01_R1443-SD3814_20240429_160007+0700.flac\n",
      "S:\\projects\\2024_WCS_Cambodia_S1139\\2024_WCS_Cambodia_S1139\\S1139_Dep01_FLAC\\S1139KS01_032K_WA-T04_R1453-SD3837\\S1139KS01_R1453-SD3837_20240601\\S1139KS01_032K_WA-T04_R1453-SD3837_20240601_070004+0700.flac\n",
      "S:\\projects\\2024_WCS_Cambodia_S1139\\2024_WCS_Cambodia_S1139\\S1139_Dep01_FLAC\\S1139KS01_032K_WA-T05_R1054-SD3833\\S1139KS01_R1054-SD3833_20240510\\S1139KS01_032K_WA-T05_R1054-SD3833_20240510_070003+0700.flac\n",
      "S:\\projects\\2024_WCS_Cambodia_S1139\\2024_WCS_Cambodia_S1139\\S1139_Dep01_FLAC\\S1139KS01_032K_WA-T05_R1054-SD3833\\S1139KS01_R1054-SD3833_20240509\\S1139KS01_032K_WA-T05_R1054-SD3833_20240509_090004+0700.flac\n",
      "S:\\projects\\2024_WCS_Cambodia_S1139\\2024_WCS_Cambodia_S1139\\S1139_Dep01_FLAC\\S1139KS01_032K_WA-T01_R1443-SD3814\\S1139KS01_R1443-SD3814_20240428\\S1139KS01_032K_WA-T01_R1443-SD3814_20240428_120005+0700.flac\n",
      "S:\\projects\\2024_WCS_Cambodia_S1139\\2024_WCS_Cambodia_S1139\\S1139_Dep01_FLAC\\S1139KS01_032K_WA-T07_R1055-SD3836\\S1139KS01_R1055-SD3836_20240326\\S1139KS01_032K_WA-T07_R1055-SD3836_20240326_110005+0700.flac\n",
      "S:\\projects\\2024_WCS_Cambodia_S1139\\2024_WCS_Cambodia_S1139\\S1139_Dep01_FLAC\\S1139KS01_032K_WA-T04_R1453-SD3837\\S1139KS01_R1453-SD3837_20240601\\S1139KS01_032K_WA-T04_R1453-SD3837_20240601_170007+0700.flac\n",
      "S:\\projects\\2024_WCS_Cambodia_S1139\\2024_WCS_Cambodia_S1139\\S1139_Dep01_FLAC\\S1139KS01_032K_WA-T04_R1453-SD3837\\S1139KS01_R1453-SD3837_20240603\\S1139KS01_032K_WA-T04_R1453-SD3837_20240603_090004+0700.flac\n",
      "S:\\projects\\2024_WCS_Cambodia_S1139\\2024_WCS_Cambodia_S1139\\S1139_Dep01_FLAC\\S1139KS01_032K_WA-T01_R1443-SD3814\\S1139KS01_R1443-SD3814_20240425\\S1139KS01_032K_WA-T01_R1443-SD3814_20240425_090004+0700.flac\n",
      "S:\\projects\\2024_WCS_Cambodia_S1139\\2024_WCS_Cambodia_S1139\\S1139_Dep01_FLAC\\S1139KS01_032K_WA-T01_R1443-SD3814\\S1139KS01_R1443-SD3814_20240423\\S1139KS01_032K_WA-T01_R1443-SD3814_20240423_123206+0700.flac\n"
     ]
    },
    {
     "name": "stderr",
     "output_type": "stream",
     "text": [
      "C:\\Users\\djc426\\AppData\\Local\\Packages\\PythonSoftwareFoundation.Python.3.12_qbz5n2kfra8p0\\LocalCache\\local-packages\\Python312\\site-packages\\matplotlib\\axes\\_axes.py:8089: RuntimeWarning: divide by zero encountered in log10\n",
      "  Z = 10. * np.log10(spec)\n"
     ]
    },
    {
     "name": "stdout",
     "output_type": "stream",
     "text": [
      "S:\\projects\\2024_WCS_Cambodia_S1139\\2024_WCS_Cambodia_S1139\\S1139_Dep01_FLAC\\S1139KS01_032K_WA-T01_R1443-SD3814\\S1139KS01_R1443-SD3814_20240429\\S1139KS01_032K_WA-T01_R1443-SD3814_20240429_130006+0700.flac\n",
      "S:\\projects\\2024_WCS_Cambodia_S1139\\2024_WCS_Cambodia_S1139\\S1139_Dep01_FLAC\\S1139KS01_032K_WA-T01_R1443-SD3814\\S1139KS01_R1443-SD3814_20240807\\S1139KS01_032K_WA-T01_R1443-SD3814_20240807_180007+0700.flac\n",
      "S:\\projects\\2024_WCS_Cambodia_S1139\\2024_WCS_Cambodia_S1139\\S1139_Dep01_FLAC\\S1139KS01_032K_WA-T04_R1453-SD3837\\S1139KS01_R1453-SD3837_20240603\\S1139KS01_032K_WA-T04_R1453-SD3837_20240603_070004+0700.flac\n",
      "S:\\projects\\2024_WCS_Cambodia_S1139\\2024_WCS_Cambodia_S1139\\S1139_Dep01_FLAC\\S1139KS01_032K_WA-T08_R1460-SD3816\\S1139KS01_R1460-SD3816_20240504\\S1139KS01_032K_WA-T08_R1460-SD3816_20240504_170007+0700.flac\n",
      "S:\\projects\\2024_WCS_Cambodia_S1139\\2024_WCS_Cambodia_S1139\\S1139_Dep01_FLAC\\S1139KS01_032K_WA-T01_R1443-SD3814\\S1139KS01_R1443-SD3814_20240426\\S1139KS01_032K_WA-T01_R1443-SD3814_20240426_210008+0700.flac\n"
     ]
    },
    {
     "name": "stderr",
     "output_type": "stream",
     "text": [
      "C:\\Users\\djc426\\AppData\\Local\\Packages\\PythonSoftwareFoundation.Python.3.12_qbz5n2kfra8p0\\LocalCache\\local-packages\\Python312\\site-packages\\matplotlib\\axes\\_axes.py:8089: RuntimeWarning: divide by zero encountered in log10\n",
      "  Z = 10. * np.log10(spec)\n"
     ]
    },
    {
     "name": "stdout",
     "output_type": "stream",
     "text": [
      "S:\\projects\\2024_WCS_Cambodia_S1139\\2024_WCS_Cambodia_S1139\\S1139_Dep01_FLAC\\S1139KS01_032K_WA-T01_R1443-SD3814\\S1139KS01_R1443-SD3814_20240426\\S1139KS01_032K_WA-T01_R1443-SD3814_20240426_170007+0700.flac\n",
      "S:\\projects\\2024_WCS_Cambodia_S1139\\2024_WCS_Cambodia_S1139\\S1139_Dep01_FLAC\\S1139KS01_032K_WA-T01_R1443-SD3814\\S1139KS01_R1443-SD3814_20240424\\S1139KS01_032K_WA-T01_R1443-SD3814_20240424_100004+0700.flac\n",
      "S:\\projects\\2024_WCS_Cambodia_S1139\\2024_WCS_Cambodia_S1139\\S1139_Dep01_FLAC\\S1139KS01_032K_WA-T02_R1463-SD3841\\S1139KS01_R1463-SD3841_20240725\\S1139KS01_032K_WA-T02_R1463-SD3841_20240725_040003+0700.flac\n",
      "S:\\projects\\2024_WCS_Cambodia_S1139\\2024_WCS_Cambodia_S1139\\S1139_Dep01_FLAC\\S1139KS01_032K_WA-T05_R1054-SD3833\\S1139KS01_R1054-SD3833_20240511\\S1139KS01_032K_WA-T05_R1054-SD3833_20240511_110005+0700.flac\n",
      "S:\\projects\\2024_WCS_Cambodia_S1139\\2024_WCS_Cambodia_S1139\\S1139_Dep01_FLAC\\S1139KS01_032K_WA-T01_R1443-SD3814\\S1139KS01_R1443-SD3814_20240428\\S1139KS01_032K_WA-T01_R1443-SD3814_20240428_050003+0700.flac\n",
      "S:\\projects\\2024_WCS_Cambodia_S1139\\2024_WCS_Cambodia_S1139\\S1139_Dep01_FLAC\\S1139KS01_032K_WA-T08_R1460-SD3816\\S1139KS01_R1460-SD3816_20240505\\S1139KS01_032K_WA-T08_R1460-SD3816_20240505_150006+0700.flac\n",
      "S:\\projects\\2024_WCS_Cambodia_S1139\\2024_WCS_Cambodia_S1139\\S1139_Dep01_FLAC\\S1139KS01_032K_WA-T04_R1453-SD3837\\S1139KS01_R1453-SD3837_20240602\\S1139KS01_032K_WA-T04_R1453-SD3837_20240602_160006+0700.flac\n",
      "S:\\projects\\2024_WCS_Cambodia_S1139\\2024_WCS_Cambodia_S1139\\S1139_Dep01_FLAC\\S1139KS01_032K_WA-T01_R1443-SD3814\\S1139KS01_R1443-SD3814_20240807\\S1139KS01_032K_WA-T01_R1443-SD3814_20240807_170007+0700.flac\n",
      "S:\\projects\\2024_WCS_Cambodia_S1139\\2024_WCS_Cambodia_S1139\\S1139_Dep01_FLAC\\S1139KS01_032K_WA-T01_R1443-SD3814\\S1139KS01_R1443-SD3814_20240423\\S1139KS01_032K_WA-T01_R1443-SD3814_20240423_193208+0700.flac\n",
      "S:\\projects\\2024_WCS_Cambodia_S1139\\2024_WCS_Cambodia_S1139\\S1139_Dep01_FLAC\\S1139KS01_032K_WA-T02_R1463-SD3841\\S1139KS01_R1463-SD3841_20240722\\S1139KS01_032K_WA-T02_R1463-SD3841_20240722_190007+0700.flac\n",
      "S:\\projects\\2024_WCS_Cambodia_S1139\\2024_WCS_Cambodia_S1139\\S1139_Dep01_FLAC\\S1139KS01_032K_WA-T01_R1443-SD3814\\S1139KS01_R1443-SD3814_20240423\\S1139KS01_032K_WA-T01_R1443-SD3814_20240423_113206+0700.flac\n",
      "S:\\projects\\2024_WCS_Cambodia_S1139\\2024_WCS_Cambodia_S1139\\S1139_Dep01_FLAC\\S1139KS01_032K_WA-T01_R1443-SD3814\\S1139KS01_R1443-SD3814_20240428\\S1139KS01_032K_WA-T01_R1443-SD3814_20240428_040003+0700.flac\n",
      "S:\\projects\\2024_WCS_Cambodia_S1139\\2024_WCS_Cambodia_S1139\\S1139_Dep01_FLAC\\S1139KS01_032K_WA-T06_R1056-SD3832\\S1139KS01_R1056-SD3832_20240415\\S1139KS01_032K_WA-T06_R1056-SD3832_20240415_050003+0700.flac\n",
      "S:\\projects\\2024_WCS_Cambodia_S1139\\2024_WCS_Cambodia_S1139\\S1139_Dep01_FLAC\\S1139KS01_032K_WA-T05_R1054-SD3833\\S1139KS01_R1054-SD3833_20240509\\S1139KS01_032K_WA-T05_R1054-SD3833_20240509_080004+0700.flac\n",
      "S:\\projects\\2024_WCS_Cambodia_S1139\\2024_WCS_Cambodia_S1139\\S1139_Dep01_FLAC\\S1139KS01_032K_WA-T07_R1055-SD3836\\S1139KS01_R1055-SD3836_20240327\\S1139KS01_032K_WA-T07_R1055-SD3836_20240327_120005+0700.flac\n",
      "S:\\projects\\2024_WCS_Cambodia_S1139\\2024_WCS_Cambodia_S1139\\S1139_Dep01_FLAC\\S1139KS01_032K_WA-T02_R1463-SD3841\\S1139KS01_R1463-SD3841_20240725\\S1139KS01_032K_WA-T02_R1463-SD3841_20240725_180007+0700.flac\n"
     ]
    },
    {
     "ename": "KeyboardInterrupt",
     "evalue": "",
     "output_type": "error",
     "traceback": [
      "\u001b[1;31m---------------------------------------------------------------------------\u001b[0m",
      "\u001b[1;31mKeyboardInterrupt\u001b[0m                         Traceback (most recent call last)",
      "Cell \u001b[1;32mIn[1], line 52\u001b[0m\n\u001b[0;32m     50\u001b[0m flac_path \u001b[38;5;241m=\u001b[39m temp_row[\u001b[38;5;124m\"\u001b[39m\u001b[38;5;124mBegin.Path\u001b[39m\u001b[38;5;124m\"\u001b[39m]\n\u001b[0;32m     51\u001b[0m \u001b[38;5;28mprint\u001b[39m(temp_row[\u001b[38;5;124m\"\u001b[39m\u001b[38;5;124mBegin.Path\u001b[39m\u001b[38;5;124m\"\u001b[39m])\n\u001b[1;32m---> 52\u001b[0m data, samplerate \u001b[38;5;241m=\u001b[39m \u001b[43msf\u001b[49m\u001b[38;5;241;43m.\u001b[39;49m\u001b[43mread\u001b[49m\u001b[43m(\u001b[49m\u001b[43mflac_path\u001b[49m\u001b[43m)\u001b[49m\n\u001b[0;32m     54\u001b[0m \u001b[38;5;66;03m# Extract a short audio segment\u001b[39;00m\n\u001b[0;32m     55\u001b[0m begin_time \u001b[38;5;241m=\u001b[39m temp_row[\u001b[38;5;124m\"\u001b[39m\u001b[38;5;124mBegin.Time..s.\u001b[39m\u001b[38;5;124m\"\u001b[39m]\n",
      "File \u001b[1;32m~\\AppData\\Local\\Packages\\PythonSoftwareFoundation.Python.3.12_qbz5n2kfra8p0\\LocalCache\\local-packages\\Python312\\site-packages\\soundfile.py:288\u001b[0m, in \u001b[0;36mread\u001b[1;34m(file, frames, start, stop, dtype, always_2d, fill_value, out, samplerate, channels, format, subtype, endian, closefd)\u001b[0m\n\u001b[0;32m    285\u001b[0m \u001b[38;5;28;01mwith\u001b[39;00m SoundFile(file, \u001b[38;5;124m'\u001b[39m\u001b[38;5;124mr\u001b[39m\u001b[38;5;124m'\u001b[39m, samplerate, channels,\n\u001b[0;32m    286\u001b[0m                subtype, endian, \u001b[38;5;28mformat\u001b[39m, closefd) \u001b[38;5;28;01mas\u001b[39;00m f:\n\u001b[0;32m    287\u001b[0m     frames \u001b[38;5;241m=\u001b[39m f\u001b[38;5;241m.\u001b[39m_prepare_read(start, stop, frames)\n\u001b[1;32m--> 288\u001b[0m     data \u001b[38;5;241m=\u001b[39m \u001b[43mf\u001b[49m\u001b[38;5;241;43m.\u001b[39;49m\u001b[43mread\u001b[49m\u001b[43m(\u001b[49m\u001b[43mframes\u001b[49m\u001b[43m,\u001b[49m\u001b[43m \u001b[49m\u001b[43mdtype\u001b[49m\u001b[43m,\u001b[49m\u001b[43m \u001b[49m\u001b[43malways_2d\u001b[49m\u001b[43m,\u001b[49m\u001b[43m \u001b[49m\u001b[43mfill_value\u001b[49m\u001b[43m,\u001b[49m\u001b[43m \u001b[49m\u001b[43mout\u001b[49m\u001b[43m)\u001b[49m\n\u001b[0;32m    289\u001b[0m \u001b[38;5;28;01mreturn\u001b[39;00m data, f\u001b[38;5;241m.\u001b[39msamplerate\n",
      "File \u001b[1;32m~\\AppData\\Local\\Packages\\PythonSoftwareFoundation.Python.3.12_qbz5n2kfra8p0\\LocalCache\\local-packages\\Python312\\site-packages\\soundfile.py:895\u001b[0m, in \u001b[0;36mSoundFile.read\u001b[1;34m(self, frames, dtype, always_2d, fill_value, out)\u001b[0m\n\u001b[0;32m    893\u001b[0m     \u001b[38;5;28;01mif\u001b[39;00m frames \u001b[38;5;241m<\u001b[39m \u001b[38;5;241m0\u001b[39m \u001b[38;5;129;01mor\u001b[39;00m frames \u001b[38;5;241m>\u001b[39m \u001b[38;5;28mlen\u001b[39m(out):\n\u001b[0;32m    894\u001b[0m         frames \u001b[38;5;241m=\u001b[39m \u001b[38;5;28mlen\u001b[39m(out)\n\u001b[1;32m--> 895\u001b[0m frames \u001b[38;5;241m=\u001b[39m \u001b[38;5;28;43mself\u001b[39;49m\u001b[38;5;241;43m.\u001b[39;49m\u001b[43m_array_io\u001b[49m\u001b[43m(\u001b[49m\u001b[38;5;124;43m'\u001b[39;49m\u001b[38;5;124;43mread\u001b[39;49m\u001b[38;5;124;43m'\u001b[39;49m\u001b[43m,\u001b[49m\u001b[43m \u001b[49m\u001b[43mout\u001b[49m\u001b[43m,\u001b[49m\u001b[43m \u001b[49m\u001b[43mframes\u001b[49m\u001b[43m)\u001b[49m\n\u001b[0;32m    896\u001b[0m \u001b[38;5;28;01mif\u001b[39;00m \u001b[38;5;28mlen\u001b[39m(out) \u001b[38;5;241m>\u001b[39m frames:\n\u001b[0;32m    897\u001b[0m     \u001b[38;5;28;01mif\u001b[39;00m fill_value \u001b[38;5;129;01mis\u001b[39;00m \u001b[38;5;28;01mNone\u001b[39;00m:\n",
      "File \u001b[1;32m~\\AppData\\Local\\Packages\\PythonSoftwareFoundation.Python.3.12_qbz5n2kfra8p0\\LocalCache\\local-packages\\Python312\\site-packages\\soundfile.py:1344\u001b[0m, in \u001b[0;36mSoundFile._array_io\u001b[1;34m(self, action, array, frames)\u001b[0m\n\u001b[0;32m   1342\u001b[0m \u001b[38;5;28;01massert\u001b[39;00m array\u001b[38;5;241m.\u001b[39mdtype\u001b[38;5;241m.\u001b[39mitemsize \u001b[38;5;241m==\u001b[39m _ffi\u001b[38;5;241m.\u001b[39msizeof(ctype)\n\u001b[0;32m   1343\u001b[0m cdata \u001b[38;5;241m=\u001b[39m _ffi\u001b[38;5;241m.\u001b[39mcast(ctype \u001b[38;5;241m+\u001b[39m \u001b[38;5;124m'\u001b[39m\u001b[38;5;124m*\u001b[39m\u001b[38;5;124m'\u001b[39m, array\u001b[38;5;241m.\u001b[39m__array_interface__[\u001b[38;5;124m'\u001b[39m\u001b[38;5;124mdata\u001b[39m\u001b[38;5;124m'\u001b[39m][\u001b[38;5;241m0\u001b[39m])\n\u001b[1;32m-> 1344\u001b[0m \u001b[38;5;28;01mreturn\u001b[39;00m \u001b[38;5;28;43mself\u001b[39;49m\u001b[38;5;241;43m.\u001b[39;49m\u001b[43m_cdata_io\u001b[49m\u001b[43m(\u001b[49m\u001b[43maction\u001b[49m\u001b[43m,\u001b[49m\u001b[43m \u001b[49m\u001b[43mcdata\u001b[49m\u001b[43m,\u001b[49m\u001b[43m \u001b[49m\u001b[43mctype\u001b[49m\u001b[43m,\u001b[49m\u001b[43m \u001b[49m\u001b[43mframes\u001b[49m\u001b[43m)\u001b[49m\n",
      "File \u001b[1;32m~\\AppData\\Local\\Packages\\PythonSoftwareFoundation.Python.3.12_qbz5n2kfra8p0\\LocalCache\\local-packages\\Python312\\site-packages\\soundfile.py:1353\u001b[0m, in \u001b[0;36mSoundFile._cdata_io\u001b[1;34m(self, action, data, ctype, frames)\u001b[0m\n\u001b[0;32m   1351\u001b[0m     curr \u001b[38;5;241m=\u001b[39m \u001b[38;5;28mself\u001b[39m\u001b[38;5;241m.\u001b[39mtell()\n\u001b[0;32m   1352\u001b[0m func \u001b[38;5;241m=\u001b[39m \u001b[38;5;28mgetattr\u001b[39m(_snd, \u001b[38;5;124m'\u001b[39m\u001b[38;5;124msf_\u001b[39m\u001b[38;5;124m'\u001b[39m \u001b[38;5;241m+\u001b[39m action \u001b[38;5;241m+\u001b[39m \u001b[38;5;124m'\u001b[39m\u001b[38;5;124mf_\u001b[39m\u001b[38;5;124m'\u001b[39m \u001b[38;5;241m+\u001b[39m ctype)\n\u001b[1;32m-> 1353\u001b[0m frames \u001b[38;5;241m=\u001b[39m \u001b[43mfunc\u001b[49m\u001b[43m(\u001b[49m\u001b[38;5;28;43mself\u001b[39;49m\u001b[38;5;241;43m.\u001b[39;49m\u001b[43m_file\u001b[49m\u001b[43m,\u001b[49m\u001b[43m \u001b[49m\u001b[43mdata\u001b[49m\u001b[43m,\u001b[49m\u001b[43m \u001b[49m\u001b[43mframes\u001b[49m\u001b[43m)\u001b[49m\n\u001b[0;32m   1354\u001b[0m _error_check(\u001b[38;5;28mself\u001b[39m\u001b[38;5;241m.\u001b[39m_errorcode)\n\u001b[0;32m   1355\u001b[0m \u001b[38;5;28;01mif\u001b[39;00m \u001b[38;5;28mself\u001b[39m\u001b[38;5;241m.\u001b[39mseekable():\n",
      "\u001b[1;31mKeyboardInterrupt\u001b[0m: "
     ]
    }
   ],
   "source": [
    "import os\n",
    "import pandas as pd\n",
    "import soundfile as sf\n",
    "import numpy as np\n",
    "import matplotlib.pyplot as plt\n",
    "\n",
    "# Path to the CSV file\n",
    "\n",
    "csv_file_path = \"C:\\\\Users\\\\djc426\\\\Documents\\\\data\\\\KSWSFilesCombined_gibbons.csv\"\n",
    "\n",
    "# Output directory\n",
    "output_base_path = \"C:\\\\Users\\\\djc426\\\\Desktop\\\\KSWS_WA_trial\\\\gibbons\\\\segments\\\\\"\n",
    "\n",
    "# Set random seed for reproducibility\n",
    "np.random.seed(3)\n",
    "\n",
    "# Total detections limit\n",
    "total_detections = 150\n",
    "\n",
    "# Read the CSV into a DataFrame\n",
    "KSWSFilesCombined = pd.read_csv(csv_file_path)\n",
    "\n",
    "# Remove rows with 'nocall' in the 'Common.Name' column\n",
    "KSWSFilesCombined = KSWSFilesCombined[KSWSFilesCombined[\"Common.Name\"] != 'nocall']\n",
    "\n",
    "# Normalize file paths to handle backslashes\n",
    "KSWSFilesCombined[\"Begin.Path\"] = KSWSFilesCombined[\"Begin.Path\"].str.replace(\"//\", \"\\\\\", regex=False)\n",
    "\n",
    "# Unique classes\n",
    "unique_classes = KSWSFilesCombined[\"Species.Code\"].unique()\n",
    "\n",
    "# Initialize an empty DataFrame for random selections\n",
    "random_selections_df = pd.DataFrame()\n",
    "\n",
    "# Process each unique species\n",
    "for unique_class in unique_classes:\n",
    "    \n",
    "# Filter based on species\n",
    "    sample_table_sub = KSWSFilesCombined[KSWSFilesCombined[\"Species.Code\"] == unique_class]\n",
    "\n",
    "# Determine number of detections to select\n",
    "    n_detections = min(len(sample_table_sub), total_detections)\n",
    "\n",
    "# Randomly sample rows\n",
    "    sampled_rows = sample_table_sub.sample(n=n_detections, random_state=42)  # Set random_state for reproducibility\n",
    "\n",
    "    for _, temp_row in sampled_rows.iterrows():\n",
    "        try:\n",
    "            # Load FLAC audio\n",
    "            flac_path = temp_row[\"Begin.Path\"]\n",
    "            print(temp_row[\"Begin.Path\"])\n",
    "            data, samplerate = sf.read(flac_path)\n",
    "            \n",
    "            # Extract a short audio segment\n",
    "            begin_time = temp_row[\"Begin.Time..s.\"]\n",
    "            end_time = temp_row[\"End.Time..s.\"]\n",
    "            start_sample = max(0, int((begin_time - 3) * samplerate))\n",
    "            end_sample = min(len(data), int((end_time + 3) * samplerate))\n",
    "            temp_wav_short = data[start_sample:end_sample]\n",
    "\n",
    "            # Prepare output directories\n",
    "            spectro_dir = os.path.join(output_base_path, unique_class, \"Spectro\")\n",
    "            wav_dir = os.path.join(output_base_path, unique_class, \"Wav\")\n",
    "            os.makedirs(spectro_dir, exist_ok=True)\n",
    "            os.makedirs(wav_dir, exist_ok=True)\n",
    "\n",
    "            # Generate filenames\n",
    "            base_name = f\"{temp_row['Confidence']}_{temp_row['Species.Code']}_{temp_row['Begin.Time..s.']}_{temp_row['End.Time..s.']}_{temp_row['TempName']}\"\n",
    "            spectro_filename = os.path.join(spectro_dir, f\"{base_name}.jpg\")\n",
    "            wav_filename = os.path.join(wav_dir, f\"{base_name}.flac\")\n",
    "\n",
    "            # Save the spectrogram\n",
    "            plt.figure(figsize=(10, 4))\n",
    "            plt.specgram(temp_wav_short, Fs=samplerate, NFFT=1024, noverlap=512, cmap=\"viridis\")\n",
    "            plt.axis('off')\n",
    "            plt.savefig(spectro_filename, bbox_inches='tight', pad_inches=0, dpi=50)\n",
    "            plt.close()\n",
    "\n",
    "            # Save the short FLAC file\n",
    "            sf.write(wav_filename, temp_wav_short, samplerate)\n",
    "\n",
    "            # Append the row to the random selections DataFrame\n",
    "            random_selections_df = pd.concat([random_selections_df, pd.DataFrame([temp_row])])\n",
    "\n",
    "        except Exception as e:\n",
    "            print(f\"Error processing file {flac_path}: {e}\")\n",
    "\n",
    "# Save the random selections to a CSV file\n",
    "random_selections_csv = os.path.join(output_base_path, \"RandomSelectionsDF.csv\")\n",
    "random_selections_df.to_csv(random_selections_csv, index=False)\n",
    "\n",
    "print(f\"Processing complete. Random selections saved to {random_selections_csv}\")\n"
   ]
  },
  {
   "cell_type": "code",
   "execution_count": 2,
   "metadata": {},
   "outputs": [
    {
     "data": {
      "text/plain": [
       "array(['GIB'], dtype=object)"
      ]
     },
     "execution_count": 2,
     "metadata": {},
     "output_type": "execute_result"
    }
   ],
   "source": [
    "unique_classes"
   ]
  },
  {
   "cell_type": "code",
   "execution_count": null,
   "metadata": {},
   "outputs": [],
   "source": []
  },
  {
   "cell_type": "code",
   "execution_count": 2,
   "metadata": {},
   "outputs": [
    {
     "ename": "SyntaxError",
     "evalue": "unterminated string literal (detected at line 2) (284041759.py, line 2)",
     "output_type": "error",
     "traceback": [
      "\u001b[1;36m  Cell \u001b[1;32mIn[2], line 2\u001b[1;36m\u001b[0m\n\u001b[1;33m    KSWSFilesCombined[\"Begin.Path\"] = KSWSFilesCombined[\"Begin.Path\"].str.replace(\"\\\\\", \"\\\", regex=False)\u001b[0m\n\u001b[1;37m                                                                                        ^\u001b[0m\n\u001b[1;31mSyntaxError\u001b[0m\u001b[1;31m:\u001b[0m unterminated string literal (detected at line 2)\n"
     ]
    }
   ],
   "source": [
    "# Normalize file paths to handle backslashes\n",
    "KSWSFilesCombined[\"Begin.Path\"] = KSWSFilesCombined[\"Begin.Path\"].str.replace(\"\\\\\", \"\\\", regex=False)\n"
   ]
  },
  {
   "cell_type": "code",
   "execution_count": 8,
   "metadata": {},
   "outputs": [],
   "source": [
    "flac_path = temp_row[\"Begin.Path\"]\n",
    "data, samplerate = sf.read(flac_path)"
   ]
  }
 ],
 "metadata": {
  "kernelspec": {
   "display_name": "Python 3",
   "language": "python",
   "name": "python3"
  },
  "language_info": {
   "codemirror_mode": {
    "name": "ipython",
    "version": 3
   },
   "file_extension": ".py",
   "mimetype": "text/x-python",
   "name": "python",
   "nbconvert_exporter": "python",
   "pygments_lexer": "ipython3",
   "version": "3.12.9"
  }
 },
 "nbformat": 4,
 "nbformat_minor": 2
}
